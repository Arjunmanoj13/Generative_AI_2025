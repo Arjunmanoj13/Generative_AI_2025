{
  "nbformat": 4,
  "nbformat_minor": 0,
  "metadata": {
    "colab": {
      "provenance": [],
      "authorship_tag": "ABX9TyPkG1eCiUAeQdPjXzsKpXXG",
      "include_colab_link": true
    },
    "kernelspec": {
      "name": "python3",
      "display_name": "Python 3"
    },
    "language_info": {
      "name": "python"
    }
  },
  "cells": [
    {
      "cell_type": "markdown",
      "metadata": {
        "id": "view-in-github",
        "colab_type": "text"
      },
      "source": [
        "<a href=\"https://colab.research.google.com/github/Arjunmanoj13/Generative_AI_2025/blob/main/2303A52134_Assignment1.ipynb\" target=\"_parent\"><img src=\"https://colab.research.google.com/assets/colab-badge.svg\" alt=\"Open In Colab\"/></a>"
      ]
    },
    {
      "cell_type": "code",
      "execution_count": 3,
      "metadata": {
        "colab": {
          "base_uri": "https://localhost:8080/"
        },
        "id": "sy8UiSCFOI7O",
        "outputId": "8c533790-dade-41e8-a78a-8d229bcea71b"
      },
      "outputs": [
        {
          "output_type": "stream",
          "name": "stdout",
          "text": [
            "0.24600000000000147\n",
            "0.4600000000000016\n",
            "0.49598387070549127\n"
          ]
        }
      ],
      "source": [
        "import numpy as np\n",
        "Y_actual=np.array([20,30,40,50,60])\n",
        "Y_predict=np.array([20.5,30.3,40.2,50.6,60.7])\n",
        "MSE = np.mean((Y_actual - Y_predict)**2)\n",
        "MAE = np.mean(np.abs(Y_actual - Y_predict))\n",
        "RMSE = np.sqrt(MSE)\n",
        "print(MSE)\n",
        "print(MAE)\n",
        "print(RMSE)"
      ]
    },
    {
      "cell_type": "code",
      "source": [
        "from sklearn.metrics import mean_squared_error, mean_absolute_error,root_mean_squared_error\n",
        "MSE_sklearn = mean_squared_error(Y_actual, Y_predict)\n",
        "MAE_sklearn = mean_absolute_error(Y_actual, Y_predict)\n",
        "RMSE_sklearn = np.sqrt(MSE_sklearn)\n",
        "\n",
        "print(\"\\nUsing scikit-learn:\")\n",
        "print(f\"MSE: {MSE_sklearn}\")\n",
        "print(f\"MAE: {MAE_sklearn}\")\n",
        "print(f\"RMSE: {RMSE_sklearn}\")"
      ],
      "metadata": {
        "colab": {
          "base_uri": "https://localhost:8080/"
        },
        "id": "-kvdRX_pOMt8",
        "outputId": "3d1933a8-f7ff-4e74-a44d-e5d6c947df6f"
      },
      "execution_count": 4,
      "outputs": [
        {
          "output_type": "stream",
          "name": "stdout",
          "text": [
            "\n",
            "Using scikit-learn:\n",
            "MSE: 0.24600000000000147\n",
            "MAE: 0.4600000000000016\n",
            "RMSE: 0.49598387070549127\n"
          ]
        }
      ]
    },
    {
      "cell_type": "code",
      "source": [
        "import numpy as np"
      ],
      "metadata": {
        "id": "JVzZ1jujOMi_"
      },
      "execution_count": null,
      "outputs": []
    },
    {
      "cell_type": "code",
      "source": [],
      "metadata": {
        "id": "PwVoClYIOMZA"
      },
      "execution_count": null,
      "outputs": []
    },
    {
      "cell_type": "code",
      "source": [],
      "metadata": {
        "id": "DqYUdrPJTZgt"
      },
      "execution_count": null,
      "outputs": []
    },
    {
      "cell_type": "code",
      "source": [],
      "metadata": {
        "id": "s9qGdYnUTZUZ"
      },
      "execution_count": null,
      "outputs": []
    }
  ]
}